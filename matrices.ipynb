{
 "cells": [
  {
   "cell_type": "code",
   "execution_count": 1,
   "metadata": {},
   "outputs": [
    {
     "name": "stdout",
     "output_type": "stream",
     "text": [
      "[1.0, 1.4142135623730951, 1.7320508075688772, 2.0, 2.23606797749979, 2.449489742783178, 2.6457513110645907, 2.8284271247461903, 3.0, 3.1622776601683795]\n",
      "[1, 3, 5, 7, 9]\n"
     ]
    }
   ],
   "source": [
    "numeros = [1, 2, 3, 4, 5, 6, 7, 8, 9, 10]\n",
    "raices = map(lambda x: x ** 0.5, numeros)  #funcion, lista\n",
    "print(list(raices))\n",
    "\n",
    "impares = filter(lambda x: x % 2 != 0, numeros) #funcion, lista\n",
    "print(list(impares))\n",
    "\n"
   ]
  },
  {
   "cell_type": "code",
   "execution_count": 3,
   "metadata": {},
   "outputs": [
    {
     "name": "stdout",
     "output_type": "stream",
     "text": [
      "[[0, 0, 0, 0], [0, 0, 0, 0], [0, 0, 0, 0]]\n",
      "---------------\n",
      "[[0, 0, 0, 0], [0, 0, 0, 0], [0, 0, 0, 0]]\n"
     ]
    }
   ],
   "source": [
    "'''matriz 3x4 de ceros'''\n",
    "filas = 3\n",
    "columnas = 4\n",
    "matriz = []\n",
    "for f in range(filas):\n",
    "    matriz.append([0]*columnas) #agrega una lista de ceros\n",
    "print(matriz)\n",
    "\n",
    "'''matriz 3x4 de ceros: listas por comprension'''\n",
    "filas = 3\n",
    "columnas = 4\n",
    "matriz = [[0] * columnas for i in range(filas)]\n",
    "print('---------------')\n",
    "print(matriz)"
   ]
  },
  {
   "cell_type": "code",
   "execution_count": 4,
   "metadata": {},
   "outputs": [
    {
     "data": {
      "text/plain": [
       "[1, 2, 3, 4, 3, 2, 1]"
      ]
     },
     "execution_count": 4,
     "metadata": {},
     "output_type": "execute_result"
    }
   ],
   "source": [
    "# capicua\n",
    "[1,2,3] + [4]*1 + [3,2,1]"
   ]
  },
  {
   "cell_type": "code",
   "execution_count": 15,
   "metadata": {},
   "outputs": [
    {
     "data": {
      "text/plain": [
       "[[1, 1, 1, 1, 1, 1, 1, 1],\n",
       " [1, 2, 2, 2, 2, 2, 2, 1],\n",
       " [1, 2, 3, 3, 3, 3, 2, 1],\n",
       " [1, 2, 3, 4, 4, 3, 2, 1],\n",
       " [1, 2, 3, 4, 4, 3, 2, 1],\n",
       " [1, 2, 3, 3, 3, 3, 2, 1],\n",
       " [1, 2, 2, 2, 2, 2, 2, 1],\n",
       " [1, 1, 1, 1, 1, 1, 1, 1]]"
      ]
     },
     "execution_count": 15,
     "metadata": {},
     "output_type": "execute_result"
    }
   ],
   "source": [
    "def espejar(lista):\n",
    "    # regresa lista + lista invertida sin el primer elemento\n",
    "    # en caso de ser par\n",
    "    if len(lista) % 2 == 0:\n",
    "        return lista + lista[::-1]\n",
    "    return lista + lista[::-1][1:]\n",
    "\n",
    "# se construye media matriz t luego se espeja\n",
    "\n",
    "matriz = []\n",
    "tamanio = 8\n",
    "tope = int(tamanio/2)+1\n",
    "if tamanio % 2 == 1: # si es impar\n",
    "    tope += 1\n",
    "for x in range(1,tope):\n",
    "    row = [x for x in range(1,x+1)]\n",
    "    multiplo = (tamanio - x*2)\n",
    "    center = [x] * multiplo\n",
    "    reverse = row[::-1]\n",
    "    if tamanio % 2 == 1:\n",
    "        if center == []:\n",
    "            reverse.pop(0)\n",
    "    \n",
    "    matriz.append(row + center + reverse)\n",
    "\n",
    "espejar(matriz)"
   ]
  },
  {
   "cell_type": "code",
   "execution_count": 16,
   "metadata": {},
   "outputs": [
    {
     "name": "stdout",
     "output_type": "stream",
     "text": [
      "[[13, 7, 4, 10], [6, 8, 0, 5], [1, 12, 2, 11], [15, 3, 14, 9]]\n"
     ]
    }
   ],
   "source": [
    "'''Matriz NxN con numeros al azar sin repetir entre 0 y N^2-1'''\n",
    "import random\n",
    "n = 4\n",
    "numeros = list(range(n**2))\n",
    "random.shuffle(numeros)\n",
    "matriz = []\n",
    "j = 0\n",
    "i = j + n\n",
    "for x in range(n):\n",
    "    matriz.append(numeros[j:i])\n",
    "    j = i\n",
    "    i += n\n",
    "print(matriz)\n"
   ]
  },
  {
   "cell_type": "code",
   "execution_count": 17,
   "metadata": {},
   "outputs": [
    {
     "data": {
      "text/plain": [
       "[6, 3, 0, 4, 5, 7, 8, 1, 2]"
      ]
     },
     "execution_count": 17,
     "metadata": {},
     "output_type": "execute_result"
    }
   ],
   "source": [
    "n=3\n",
    "list = []\n",
    "tamanio = n*n\n",
    "\n",
    "num_aleatorio = random.randint(0,n**2-1)\n",
    "while len(list) < tamanio:\n",
    "    if num_aleatorio not in list:\n",
    "        list.append(num_aleatorio)\n",
    "    num_aleatorio = random.randint(0,n**2-1)\n",
    "\n",
    "list\n"
   ]
  },
  {
   "cell_type": "code",
   "execution_count": 44,
   "metadata": {},
   "outputs": [
    {
     "name": "stdout",
     "output_type": "stream",
     "text": [
      "[[1, 2, 3, 4, 5], [16, 17, 18, 19, 6], [15, 24, 25, 20, 7], [14, 23, 22, 21, 8], [13, 12, 11, 10, 9]]\n"
     ]
    }
   ],
   "source": [
    "''' escribir una matriz de n x n en espiral'''\n",
    "n = 5\n",
    "matriz = [[0]*n for i in range(n)] #crea matriz de n x n\n",
    "num = 1\n",
    "inicio = 0\n",
    "fin = n\n",
    "while num <= n**2:\n",
    "    for i in range(inicio, fin):\n",
    "        matriz[inicio][i] = num\n",
    "        num += 1\n",
    "    for i in range(inicio+1, fin):\n",
    "        matriz[i][fin-1] = num\n",
    "        num += 1\n",
    "    for i in range(fin-2, inicio-1, -1):\n",
    "        matriz[fin-1][i] = num\n",
    "        num += 1\n",
    "    for i in range(fin-2, inicio, -1):\n",
    "        matriz[i][inicio] = num\n",
    "        num += 1\n",
    "    inicio += 1\n",
    "    fin -= 1\n",
    "print(matriz)\n"
   ]
  },
  {
   "cell_type": "code",
   "execution_count": 46,
   "metadata": {},
   "outputs": [
    {
     "data": {
      "text/plain": [
       "[[0, 0, 0, 0, 0],\n",
       " [0, 0, 0, 0, 0],\n",
       " [0, 0, 0, 0, 0],\n",
       " [0, 0, 0, 0, 0],\n",
       " [0, 0, 0, 0, 0]]"
      ]
     },
     "execution_count": 46,
     "metadata": {},
     "output_type": "execute_result"
    }
   ],
   "source": [
    "matriz = [[0]*n for i in range(n)]\n",
    "matriz"
   ]
  },
  {
   "cell_type": "code",
   "execution_count": 58,
   "metadata": {},
   "outputs": [
    {
     "name": "stdout",
     "output_type": "stream",
     "text": [
      "[5, 1, 12, 24, 14]\n",
      "[2, 9, 11, 6, 22]\n",
      "[25, 15, 8, 20, 21]\n",
      "[23, 13, 3, 17, 4]\n",
      "[19, 0, 18, 10, 16]\n"
     ]
    }
   ],
   "source": [
    "from random import randint as rd \n",
    "'''\n",
    "verificar si un valor esta en la matriz y regresar la posicion\n",
    "'''\n",
    "\n",
    "def buscar(matriz, valor):\n",
    "    for i in range(len(matriz)):\n",
    "        for j in range(len(matriz[i])):\n",
    "            if matriz[i][j] == valor:\n",
    "                return True\n",
    "    return False\n",
    "\n",
    "\n",
    "''' \n",
    "generar un numero random, si no esta en la matriz, agregarlo \n",
    "a una matriz de n x n\n",
    "'''\n",
    "n = 5\n",
    "matriz = [[-1]*n for i in range(n)]\n",
    "contador = 0\n",
    "while contador < n**2:\n",
    "    for i in range(n):\n",
    "        for j in range(n):\n",
    "            num = rd(0,n**2)\n",
    "            r = buscar(matriz, num)\n",
    "            while r: \n",
    "                num = rd(0,n**2-1)\n",
    "                r = buscar(matriz, num)\n",
    "            matriz[i][j] = num\n",
    "            contador += 1\n",
    "\n",
    "for i in matriz:\n",
    "    print(i)"
   ]
  },
  {
   "cell_type": "code",
   "execution_count": 59,
   "metadata": {},
   "outputs": [
    {
     "name": "stdout",
     "output_type": "stream",
     "text": [
      "[2, 9, 11, 6, 22]\n",
      "[5, 1, 12, 24, 14]\n",
      "[19, 0, 18, 10, 16]\n",
      "[23, 13, 3, 17, 4]\n",
      "[25, 15, 8, 20, 21]\n"
     ]
    }
   ],
   "source": [
    "# ordenar las filas de matriz de menor a mayor por la columna 0\n",
    "matriz.sort(key=lambda x: x[0])\n",
    "for i in matriz:\n",
    "    print(i)"
   ]
  },
  {
   "cell_type": "code",
   "execution_count": 60,
   "metadata": {},
   "outputs": [
    {
     "name": "stdout",
     "output_type": "stream",
     "text": [
      "[19, 0, 18, 10, 16]\n",
      "[5, 1, 12, 24, 14]\n",
      "[2, 9, 11, 6, 22]\n",
      "[23, 13, 3, 17, 4]\n",
      "[25, 15, 8, 20, 21]\n",
      "[0, 1, 9, 13, 15]\n"
     ]
    }
   ],
   "source": [
    "# swap filas\n",
    "aux = matriz[0]\n",
    "matriz[0] = matriz[2]\n",
    "matriz[2] = aux\n",
    "for i in matriz:\n",
    "    print(i)\n",
    "\n",
    "# obtener la columna 0\n",
    "columna = [i[1] for i in matriz]\n",
    "print(columna)\n"
   ]
  },
  {
   "cell_type": "code",
   "execution_count": 61,
   "metadata": {},
   "outputs": [
    {
     "name": "stdout",
     "output_type": "stream",
     "text": [
      "[19, 0, 18, 10, 16]\n",
      "[5, 1, 12, 24, 14]\n",
      "[2, 9, 11, 6, 22]\n",
      "[23, 13, 3, 17, 4]\n",
      "[25, 15, 8, 20, 21]\n",
      "----------------\n",
      "[19, 5, 2, 23, 25]\n",
      "[0, 1, 9, 13, 15]\n",
      "[18, 12, 11, 3, 8]\n",
      "[10, 24, 6, 17, 20]\n",
      "[16, 14, 22, 4, 21]\n",
      "5\n"
     ]
    }
   ],
   "source": [
    "\n",
    "# transponer matriz\n",
    "\n",
    "for i in matriz:\n",
    "    print(i)\n",
    "\n",
    "for j in range(len(matriz)):\n",
    "    for i in range(j, len(matriz)):\n",
    "        aux = matriz[i][j]\n",
    "        matriz[i][j] = matriz[j][i]\n",
    "        matriz[j][i] = aux\n",
    "\n",
    "print('----------------')\n",
    "for i in matriz:\n",
    "    print(i)\n",
    "\n",
    "print(len(matriz))    "
   ]
  },
  {
   "cell_type": "code",
   "execution_count": 70,
   "metadata": {},
   "outputs": [
    {
     "name": "stdout",
     "output_type": "stream",
     "text": [
      "[23, 13, 3, 17, 4]\n",
      "[23, 13, 3, 17]\n",
      "4 5 80.0\n"
     ]
    }
   ],
   "source": [
    "#columna = int(input('ingrese un valor int [0,2]: '))\n",
    "columna = 3\n",
    "columna = [fila[columna] for fila in matriz]\n",
    "print(columna)\n",
    "impares = list(filter(lambda x: x % 2 != 0, columna))\n",
    "print(impares)\n",
    "a = len(impares)\n",
    "b = len(columna)\n",
    "porcentaje = (a/b)*100\n",
    "print(a,b,porcentaje)"
   ]
  },
  {
   "cell_type": "code",
   "execution_count": 73,
   "metadata": {},
   "outputs": [
    {
     "name": "stdout",
     "output_type": "stream",
     "text": [
      "True\n",
      "False\n"
     ]
    }
   ],
   "source": [
    "def matriz_es_simetrica(matriz):\n",
    "    for i in range(len(matriz)):\n",
    "        for j in range(len(matriz)):\n",
    "            if matriz[i][j] != matriz[j][i]:\n",
    "                return False\n",
    "    return True\n",
    "\n",
    "matriz = [[1,2,3],[2,4,5],[3,5,6]]\n",
    "print(matriz_es_simetrica(matriz))\n",
    "\n",
    "# determinar si una matriz es simetrica \n",
    "# con respecto a la diagonal secundaria\n",
    "def matriz_es_simetrica_secundria(matriz):\n",
    "    for i in range(len(matriz)):\n",
    "        for j in range(len(matriz)):\n",
    "            if matriz[i][j] != matriz[len(matriz)-1-j][len(matriz)-1-i]:\n",
    "                return False\n",
    "    return True\n",
    "\n",
    "matriz = [[1,2,3],[2,4,5],[3,5,6]]\n",
    "print(matriz_es_simetrica_secundria(matriz))\n",
    "\n"
   ]
  },
  {
   "cell_type": "code",
   "execution_count": 76,
   "metadata": {},
   "outputs": [
    {
     "name": "stdout",
     "output_type": "stream",
     "text": [
      "True\n"
     ]
    }
   ],
   "source": [
    "def capicua(columna):\n",
    "    j = len(columna)-1\n",
    "    for i in range(len(columna)):\n",
    "        if columna[i] != columna[j-i]:\n",
    "            return False\n",
    "    return True\n",
    "\n",
    "columna = [1,2,3,4,5,4,3,2,1]\n",
    "print(capicua(columna))\n"
   ]
  },
  {
   "cell_type": "code",
   "execution_count": 85,
   "metadata": {},
   "outputs": [
    {
     "name": "stdout",
     "output_type": "stream",
     "text": [
      "[115, 56, 65, 52, 3, 102, 121] 514\n",
      "[106, 108, 139, 112, 31, 57, 84] 637\n",
      "[57, 44, 30, 149, 33, 150, 145] 608\n",
      "[77, 77, 99, 84, 63, 86, 138] 624\n",
      "[13, 70, 56, 92, 141, 26, 73] 471\n"
     ]
    }
   ],
   "source": [
    "# ejercicio fabricas \n",
    "cant_fabricas = 5\n",
    "bicicletas = rd(0,150)\n",
    "fabricas = [[-1]*7 for i in range(cant_fabricas)]\n",
    "for i in range(cant_fabricas):\n",
    "    for j in range(7):\n",
    "        fabricas[i][j] = rd(0,150)\n",
    "\n",
    "for i in fabricas:\n",
    "    print(i, sum(i))"
   ]
  },
  {
   "cell_type": "code",
   "execution_count": 91,
   "metadata": {},
   "outputs": [
    {
     "name": "stdout",
     "output_type": "stream",
     "text": [
      "2 150 5\n",
      "La fabrica 3 produjo 150 bicicletas el dia sabado\n"
     ]
    }
   ],
   "source": [
    "id_fabrica, max_produccion, dia_maximo = 0, 0, 0\n",
    "semana = ['lunes', 'martes', 'miercoles', 'jueves', 'viernes', 'sabado', 'domingo']\n",
    "for i,v in enumerate(fabricas):\n",
    "    if max(v) > max_produccion:\n",
    "        max_produccion = max(v)\n",
    "        id_fabrica = i\n",
    "        dia_maximo = v.index(max(v))\n",
    "\n",
    "print(id_fabrica, max_produccion, dia_maximo)\n",
    "print(f'La fabrica {id_fabrica + 1} produjo {max_produccion} bicicletas el dia {semana[dia_maximo]}')\n"
   ]
  },
  {
   "cell_type": "code",
   "execution_count": 94,
   "metadata": {},
   "outputs": [
    {
     "name": "stdout",
     "output_type": "stream",
     "text": [
      "561 6\n",
      "El dia más productivo fue el domingo con 561 bicicletas\n"
     ]
    }
   ],
   "source": [
    "# dia más productivo. \n",
    "# tomo el maximo de cada dia y sumo\n",
    "maximo = 0\n",
    "dia = 0\n",
    "for i in range(7):\n",
    "    suma = sum([fila[i] for fila in fabricas])\n",
    "    if suma > maximo:\n",
    "        maximo = suma\n",
    "        dia = i\n",
    "print(maximo, dia)\n",
    "print(f'El dia más productivo fue el {semana[dia]} con {maximo} bicicletas')\n"
   ]
  },
  {
   "cell_type": "code",
   "execution_count": 97,
   "metadata": {},
   "outputs": [
    {
     "data": {
      "text/plain": [
       "[[115, 56, 65, 52, 3, 102, 121],\n",
       " [106, 108, 139, 112, 31, 57, 84],\n",
       " [57, 44, 30, 149, 33, 150, 145],\n",
       " [77, 77, 99, 84, 63, 86, 138],\n",
       " [13, 70, 56, 92, 141, 26, 73]]"
      ]
     },
     "execution_count": 97,
     "metadata": {},
     "output_type": "execute_result"
    }
   ],
   "source": [
    "fabricas"
   ]
  },
  {
   "cell_type": "code",
   "execution_count": 100,
   "metadata": {},
   "outputs": [
    {
     "name": "stdout",
     "output_type": "stream",
     "text": [
      "[3, 31, 30, 63, 13]\n"
     ]
    }
   ],
   "source": [
    "menor_cant_de_cada_fabrica = [min(fabrica) for fabrica in fabricas]\n",
    "print(menor_cant_de_cada_fabrica)\n",
    "    "
   ]
  }
 ],
 "metadata": {
  "kernelspec": {
   "display_name": ".venv",
   "language": "python",
   "name": "python3"
  },
  "language_info": {
   "codemirror_mode": {
    "name": "ipython",
    "version": 3
   },
   "file_extension": ".py",
   "mimetype": "text/x-python",
   "name": "python",
   "nbconvert_exporter": "python",
   "pygments_lexer": "ipython3",
   "version": "3.11.7"
  }
 },
 "nbformat": 4,
 "nbformat_minor": 2
}
