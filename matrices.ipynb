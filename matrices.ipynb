{
 "cells": [
  {
   "cell_type": "code",
   "execution_count": 2,
   "metadata": {},
   "outputs": [
    {
     "name": "stdout",
     "output_type": "stream",
     "text": [
      "[1.0, 1.4142135623730951, 1.7320508075688772, 2.0, 2.23606797749979, 2.449489742783178, 2.6457513110645907, 2.8284271247461903, 3.0, 3.1622776601683795]\n",
      "[1, 3, 5, 7, 9]\n"
     ]
    }
   ],
   "source": [
    "numeros = [1, 2, 3, 4, 5, 6, 7, 8, 9, 10]\n",
    "raices = map(lambda x: x ** 0.5, numeros)  #funcion, lista\n",
    "print(list(raices))\n",
    "\n",
    "impares = filter(lambda x: x % 2 != 0, numeros) #funcion, lista\n",
    "print(list(impares))\n",
    "\n"
   ]
  },
  {
   "cell_type": "code",
   "execution_count": 3,
   "metadata": {},
   "outputs": [
    {
     "name": "stdout",
     "output_type": "stream",
     "text": [
      "[[0, 0, 0, 0], [0, 0, 0, 0], [0, 0, 0, 0]]\n",
      "---------------\n",
      "[[0, 0, 0, 0], [0, 0, 0, 0], [0, 0, 0, 0]]\n"
     ]
    }
   ],
   "source": [
    "'''matriz 3x4 de ceros'''\n",
    "filas = 3\n",
    "columnas = 4\n",
    "matriz = []\n",
    "for f in range(filas):\n",
    "    matriz.append([0]*columnas) #agrega una lista de ceros\n",
    "print(matriz)\n",
    "\n",
    "'''matriz 3x4 de ceros: listas por comprension'''\n",
    "filas = 3\n",
    "columnas = 4\n",
    "matriz = [[0] * columnas for i in range(filas)]\n",
    "print('---------------')\n",
    "print(matriz)"
   ]
  },
  {
   "cell_type": "code",
   "execution_count": 4,
   "metadata": {},
   "outputs": [
    {
     "data": {
      "text/plain": [
       "[1, 2, 3, 4, 3, 2, 1]"
      ]
     },
     "execution_count": 4,
     "metadata": {},
     "output_type": "execute_result"
    }
   ],
   "source": [
    "# capicua\n",
    "[1,2,3] + [4]*1 + [3,2,1]"
   ]
  },
  {
   "cell_type": "code",
   "execution_count": 5,
   "metadata": {},
   "outputs": [
    {
     "data": {
      "text/plain": [
       "[[1, 1, 1, 1, 1, 1, 1, 1],\n",
       " [1, 2, 2, 2, 2, 2, 2, 1],\n",
       " [1, 2, 3, 3, 3, 3, 2, 1],\n",
       " [1, 2, 3, 4, 4, 3, 2, 1],\n",
       " [1, 2, 3, 4, 4, 3, 2, 1],\n",
       " [1, 2, 3, 3, 3, 3, 2, 1],\n",
       " [1, 2, 2, 2, 2, 2, 2, 1],\n",
       " [1, 1, 1, 1, 1, 1, 1, 1]]"
      ]
     },
     "execution_count": 5,
     "metadata": {},
     "output_type": "execute_result"
    }
   ],
   "source": [
    "def espejar(lista):\n",
    "    # regresa lista + lista invertida sin el primer elemento\n",
    "    # en caso de ser par\n",
    "    if len(lista) % 2 == 0:\n",
    "        return lista + lista[::-1]\n",
    "    return lista + lista[::-1][1:]\n",
    "\n",
    "# se construye media matriz t luego se espeja\n",
    "\n",
    "matriz = []\n",
    "tamanio = 8\n",
    "tope = int(tamanio/2)+1\n",
    "if tamanio % 2 == 1: # si es impar\n",
    "    tope += 1\n",
    "for x in range(1,tope):\n",
    "    row = [x for x in range(1,x+1)]\n",
    "    multiplo = (tamanio - x*2)\n",
    "    center = [x] * multiplo\n",
    "    reverse = row[::-1]\n",
    "    if tamanio % 2 == 1:\n",
    "        if center == []:\n",
    "            reverse.pop(0)\n",
    "    \n",
    "    matriz.append(row + center + reverse)\n",
    "\n",
    "espejar(matriz)"
   ]
  },
  {
   "cell_type": "code",
   "execution_count": 6,
   "metadata": {},
   "outputs": [
    {
     "name": "stdout",
     "output_type": "stream",
     "text": [
      "[[1, 13, 2, 12], [9, 3, 14, 7], [10, 8, 11, 6], [0, 15, 5, 4]]\n"
     ]
    }
   ],
   "source": [
    "'''Matriz NxN con numeros al azar sin repetir entre 0 y N^2-1, \n",
    "por el tamaño de la matriz y las restricciones, van a estar \n",
    "todos los numeros '''\n",
    "\n",
    "import random\n",
    "n = 4\n",
    "numeros = list(range(n**2))\n",
    "random.shuffle(numeros)\n",
    "matriz = []\n",
    "j = 0\n",
    "i = j + n\n",
    "for x in range(n):\n",
    "    matriz.append(numeros[j:i])\n",
    "    j = i\n",
    "    i += n\n",
    "print(matriz)\n"
   ]
  },
  {
   "cell_type": "code",
   "execution_count": 7,
   "metadata": {},
   "outputs": [
    {
     "name": "stdout",
     "output_type": "stream",
     "text": [
      "[1, 20, 17, 5, 4]\n",
      "[13, 21, 11, 6, 16]\n",
      "[12, 8, 24, 0, 15]\n",
      "[10, 9, 18, 2, 19]\n",
      "[14, 7, 3, 22, 23]\n"
     ]
    }
   ],
   "source": [
    "from random import randint as rd \n",
    "'''\n",
    "verificar si un valor esta en la matriz \n",
    "'''\n",
    "\n",
    "def buscar(matriz, valor):\n",
    "    for i in range(len(matriz)):\n",
    "        for j in range(len(matriz[i])):\n",
    "            if matriz[i][j] == valor:\n",
    "                return True\n",
    "    return False\n",
    "\n",
    "\n",
    "''' \n",
    "generar un numero random, si no esta en la matriz, agregarlo \n",
    "a una matriz de n x n\n",
    "'''\n",
    "n = 5\n",
    "matriz = [[-1]*n for i in range(n)]\n",
    "contador = 0\n",
    "while contador < n**2:\n",
    "    for i in range(n):\n",
    "        for j in range(n):\n",
    "            num = rd(0,n**2)\n",
    "            r = buscar(matriz, num)\n",
    "            while r: \n",
    "                num = rd(0,n**2-1)\n",
    "                r = buscar(matriz, num)\n",
    "            matriz[i][j] = num\n",
    "            contador += 1\n",
    "\n",
    "for i in matriz:\n",
    "    print(i)"
   ]
  },
  {
   "cell_type": "code",
   "execution_count": 8,
   "metadata": {},
   "outputs": [
    {
     "name": "stdout",
     "output_type": "stream",
     "text": [
      "[1, 20, 17, 5, 4]\n",
      "[10, 9, 18, 2, 19]\n",
      "[12, 8, 24, 0, 15]\n",
      "[13, 21, 11, 6, 16]\n",
      "[14, 7, 3, 22, 23]\n"
     ]
    }
   ],
   "source": [
    "# ordenar las filas de matriz de menor a mayor por la columna 0\n",
    "matriz.sort(key=lambda x: x[0])\n",
    "for i in matriz:\n",
    "    print(i)"
   ]
  },
  {
   "cell_type": "code",
   "execution_count": 9,
   "metadata": {},
   "outputs": [
    {
     "name": "stdout",
     "output_type": "stream",
     "text": [
      "[[1, 2, 3, 4, 5], [16, 17, 18, 19, 6], [15, 24, 25, 20, 7], [14, 23, 22, 21, 8], [13, 12, 11, 10, 9]]\n"
     ]
    }
   ],
   "source": [
    "''' escribir una matriz de n x n en espiral'''\n",
    "n = 5\n",
    "matriz = [[0]*n for i in range(n)] #crea matriz de n x n\n",
    "num = 1\n",
    "inicio = 0\n",
    "fin = n\n",
    "while num <= n**2:\n",
    "    for i in range(inicio, fin):\n",
    "        matriz[inicio][i] = num\n",
    "        num += 1\n",
    "    for i in range(inicio+1, fin):\n",
    "        matriz[i][fin-1] = num\n",
    "        num += 1\n",
    "    for i in range(fin-2, inicio-1, -1):\n",
    "        matriz[fin-1][i] = num\n",
    "        num += 1\n",
    "    for i in range(fin-2, inicio, -1):\n",
    "        matriz[i][inicio] = num\n",
    "        num += 1\n",
    "    inicio += 1\n",
    "    fin -= 1\n",
    "print(matriz)\n"
   ]
  },
  {
   "cell_type": "code",
   "execution_count": 10,
   "metadata": {},
   "outputs": [
    {
     "name": "stdout",
     "output_type": "stream",
     "text": [
      "[15, 24, 25, 20, 7]\n",
      "[16, 17, 18, 19, 6]\n",
      "[1, 2, 3, 4, 5]\n",
      "[14, 23, 22, 21, 8]\n",
      "[13, 12, 11, 10, 9]\n",
      "[24, 17, 2, 23, 12]\n"
     ]
    }
   ],
   "source": [
    "# swap filas\n",
    "aux = matriz[0]\n",
    "matriz[0] = matriz[2]\n",
    "matriz[2] = aux\n",
    "for i in matriz:\n",
    "    print(i)\n",
    "\n",
    "# obtener la columna 0\n",
    "columna = [i[1] for i in matriz]\n",
    "print(columna)\n"
   ]
  },
  {
   "cell_type": "code",
   "execution_count": 15,
   "metadata": {},
   "outputs": [
    {
     "name": "stdout",
     "output_type": "stream",
     "text": [
      "[15, 16, 1, 14, 13]\n",
      "[24, 17, 2, 23, 12]\n",
      "[25, 18, 3, 22, 11]\n",
      "[20, 19, 4, 21, 10]\n",
      "[7, 6, 5, 8, 9]\n",
      "----------------\n",
      "[15, 24, 25, 20, 7]\n",
      "[16, 17, 18, 19, 6]\n",
      "[1, 2, 3, 4, 5]\n",
      "[14, 23, 22, 21, 8]\n",
      "[13, 12, 11, 10, 9]\n",
      "5\n"
     ]
    }
   ],
   "source": [
    "\n",
    "# transponer matriz\n",
    "\n",
    "for i in matriz:\n",
    "    print(i)\n",
    "\n",
    "for j in range(len(matriz)):\n",
    "    for i in range(j, len(matriz)):\n",
    "        aux = matriz[i][j]\n",
    "        matriz[i][j] = matriz[j][i]\n",
    "        matriz[j][i] = aux\n",
    "\n",
    "print('----------------')\n",
    "for i in matriz:\n",
    "    print(i)\n",
    "\n",
    "print(len(matriz))    "
   ]
  },
  {
   "cell_type": "code",
   "execution_count": 16,
   "metadata": {},
   "outputs": [
    {
     "name": "stdout",
     "output_type": "stream",
     "text": [
      "[20, 19, 4, 21, 10]\n"
     ]
    }
   ],
   "source": [
    "#columna = int(input('ingrese un valor int [0,2]: '))\n",
    "columna = 3\n",
    "columna_seleccionada = [fila[columna] for fila in matriz]\n",
    "print(columna_seleccionada)\n"
   ]
  },
  {
   "cell_type": "code",
   "execution_count": 19,
   "metadata": {},
   "outputs": [
    {
     "name": "stdout",
     "output_type": "stream",
     "text": [
      "[19, 21]\n",
      "2 5 40.0\n"
     ]
    }
   ],
   "source": [
    "impares = list(filter(lambda x: x % 2 != 0, columna_seleccionada))\n",
    "print(impares)\n",
    "a = len(impares)\n",
    "b = len(columna_seleccionada)\n",
    "porcentaje = (a/b)*100\n",
    "print(a,b,porcentaje)"
   ]
  },
  {
   "cell_type": "code",
   "execution_count": 20,
   "metadata": {},
   "outputs": [
    {
     "name": "stdout",
     "output_type": "stream",
     "text": [
      "True\n",
      "False\n"
     ]
    }
   ],
   "source": [
    "def matriz_es_simetrica(matriz):\n",
    "    for i in range(len(matriz)):\n",
    "        for j in range(len(matriz)):\n",
    "            if matriz[i][j] != matriz[j][i]:\n",
    "                return False\n",
    "    return True\n",
    "\n",
    "matriz = [[1,2,3],[2,4,5],[3,5,6]]\n",
    "print(matriz_es_simetrica(matriz))\n",
    "\n",
    "# determinar si una matriz es simetrica \n",
    "# con respecto a la diagonal secundaria\n",
    "def matriz_es_simetrica_secundria(matriz):\n",
    "    for i in range(len(matriz)):\n",
    "        for j in range(len(matriz)):\n",
    "            if matriz[i][j] != matriz[len(matriz)-1-j][len(matriz)-1-i]:\n",
    "                return False\n",
    "    return True\n",
    "\n",
    "matriz = [[1,2,3],[2,4,5],[3,5,6]]\n",
    "print(matriz_es_simetrica_secundria(matriz))\n",
    "\n"
   ]
  },
  {
   "cell_type": "code",
   "execution_count": 21,
   "metadata": {},
   "outputs": [
    {
     "name": "stdout",
     "output_type": "stream",
     "text": [
      "True\n"
     ]
    }
   ],
   "source": [
    "def capicua(columna):\n",
    "    j = len(columna)-1\n",
    "    for i in range(len(columna)):\n",
    "        if columna[i] != columna[j-i]:\n",
    "            return False\n",
    "    return True\n",
    "\n",
    "columna = [1,2,3,4,5,4,3,2,1]\n",
    "print(capicua(columna))\n"
   ]
  },
  {
   "cell_type": "code",
   "execution_count": 22,
   "metadata": {},
   "outputs": [
    {
     "name": "stdout",
     "output_type": "stream",
     "text": [
      "[99, 90, 96, 54, 62, 47, 94] 542\n",
      "[72, 1, 98, 15, 45, 75, 146] 452\n",
      "[130, 97, 96, 0, 85, 87, 20] 515\n",
      "[36, 25, 144, 101, 25, 114, 71] 516\n",
      "[4, 7, 25, 112, 44, 24, 70] 286\n"
     ]
    }
   ],
   "source": [
    "# ejercicio fabricas \n",
    "cant_fabricas = 5\n",
    "bicicletas = rd(0,150)\n",
    "fabricas = [[-1]*7 for i in range(cant_fabricas)]\n",
    "for i in range(cant_fabricas):\n",
    "    for j in range(7):\n",
    "        fabricas[i][j] = rd(0,150)\n",
    "\n",
    "for i in fabricas:\n",
    "    print(i, sum(i))"
   ]
  },
  {
   "cell_type": "code",
   "execution_count": 23,
   "metadata": {},
   "outputs": [
    {
     "name": "stdout",
     "output_type": "stream",
     "text": [
      "1 146 6\n",
      "La fabrica 2 produjo 146 bicicletas el dia domingo\n"
     ]
    }
   ],
   "source": [
    "id_fabrica, max_produccion, dia_maximo = 0, 0, 0\n",
    "semana = ['lunes', 'martes', 'miercoles', 'jueves', 'viernes', 'sabado', 'domingo']\n",
    "for i,v in enumerate(fabricas):\n",
    "    if max(v) > max_produccion:\n",
    "        max_produccion = max(v)\n",
    "        id_fabrica = i\n",
    "        dia_maximo = v.index(max(v))\n",
    "\n",
    "print(id_fabrica, max_produccion, dia_maximo)\n",
    "print(f'La fabrica {id_fabrica + 1} produjo {max_produccion} bicicletas el dia {semana[dia_maximo]}')\n"
   ]
  },
  {
   "cell_type": "code",
   "execution_count": 24,
   "metadata": {},
   "outputs": [
    {
     "name": "stdout",
     "output_type": "stream",
     "text": [
      "459 2\n",
      "El dia más productivo fue el miercoles con 459 bicicletas\n"
     ]
    }
   ],
   "source": [
    "# dia más productivo. \n",
    "# tomo el maximo de cada dia y sumo\n",
    "maximo = 0\n",
    "dia = 0\n",
    "for i in range(7):\n",
    "    suma = sum([fila[i] for fila in fabricas])\n",
    "    if suma > maximo:\n",
    "        maximo = suma\n",
    "        dia = i\n",
    "print(maximo, dia)\n",
    "print(f'El dia más productivo fue el {semana[dia]} con {maximo} bicicletas')\n"
   ]
  },
  {
   "cell_type": "code",
   "execution_count": 25,
   "metadata": {},
   "outputs": [
    {
     "data": {
      "text/plain": [
       "[[99, 90, 96, 54, 62, 47, 94],\n",
       " [72, 1, 98, 15, 45, 75, 146],\n",
       " [130, 97, 96, 0, 85, 87, 20],\n",
       " [36, 25, 144, 101, 25, 114, 71],\n",
       " [4, 7, 25, 112, 44, 24, 70]]"
      ]
     },
     "execution_count": 25,
     "metadata": {},
     "output_type": "execute_result"
    }
   ],
   "source": [
    "fabricas"
   ]
  },
  {
   "cell_type": "code",
   "execution_count": 26,
   "metadata": {},
   "outputs": [
    {
     "name": "stdout",
     "output_type": "stream",
     "text": [
      "[47, 1, 0, 25, 4]\n"
     ]
    }
   ],
   "source": [
    "menor_cant_de_cada_fabrica = [min(fabrica) for fabrica in fabricas]\n",
    "print(menor_cant_de_cada_fabrica)\n",
    "    "
   ]
  }
 ],
 "metadata": {
  "kernelspec": {
   "display_name": ".venv",
   "language": "python",
   "name": "python3"
  },
  "language_info": {
   "codemirror_mode": {
    "name": "ipython",
    "version": 3
   },
   "file_extension": ".py",
   "mimetype": "text/x-python",
   "name": "python",
   "nbconvert_exporter": "python",
   "pygments_lexer": "ipython3",
   "version": "3.11.7"
  }
 },
 "nbformat": 4,
 "nbformat_minor": 2
}
