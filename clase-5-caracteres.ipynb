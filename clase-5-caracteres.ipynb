{
 "cells": [
  {
   "cell_type": "markdown",
   "metadata": {},
   "source": [
    "4.\tEscribir una función filtrarPalabras() que reciba una cadena de caracteres conteniendo una frase y un entero N, y devuelva otra cadena con las palabras que tengan N o más caracteres de la cadena original. Escribir también un programa paraverificar el comportamiento de la misma. "
   ]
  },
  {
   "cell_type": "code",
   "execution_count": 17,
   "metadata": {},
   "outputs": [
    {
     "name": "stdout",
     "output_type": "stream",
     "text": [
      "Escribir una función que reciba como parámetro una cadena caracteres que las palabras encuentran separadas por uno más espacios\n",
      "---------------------------------\n",
      "Escribir función reciba como parámetro cadena caracteres palabras encuentran separadas espacios\n",
      "---------------------------------\n",
      "Escribir función reciba parámetro cadena caracteres palabras encuentran separadas espacios\n",
      "---------------------------------\n",
      "Escribir función reciba parámetro cadena caracteres palabras encuentran separadas espacios\n",
      "---------------------------------\n"
     ]
    }
   ],
   "source": [
    "def filtrarPalabras(lista, n):\n",
    "    return ' '.join([palabra for palabra in lista.split() if len(palabra) >= n])\n",
    "\n",
    "cadena = ''' \n",
    "Escribir una función que reciba como parámetro una cadena de caracteres en la que las palabras \n",
    "se encuentran separadas por uno o más espacios '''\n",
    "\n",
    "for i in range(3, 7):\n",
    "    print(filtrarPalabras(cadena, i))\n",
    "    print('---------------------------------')\n",
    "\n"
   ]
  },
  {
   "cell_type": "markdown",
   "metadata": {},
   "source": [
    "6.\tEscribir una función que reciba como parámetro una cadena de caracteres en la que las palabras se encuentran separadas por uno o más espacios. Devolver otra cadena con las palabras ordenadas alfabéticamente, dejando un espacio entre cadauna.\n",
    "\n"
   ]
  },
  {
   "cell_type": "code",
   "execution_count": 14,
   "metadata": {},
   "outputs": [
    {
     "name": "stdout",
     "output_type": "stream",
     "text": [
      "como estas hola no por que te vas\n"
     ]
    }
   ],
   "source": [
    "def ordenarFrase(cadena):\n",
    "    cadena = cadena.split()\n",
    "    cadena.sort()\n",
    "    return ' '.join(cadena)\n",
    "\n",
    "cadena = \"hola como estas por que no te vas\"\n",
    "print(ordenarFrase(cadena))"
   ]
  },
  {
   "cell_type": "markdown",
   "metadata": {},
   "source": [
    "8.\tDesarrollar una función para reemplazar todas las apariciones de una palabra por otra en una cadena de caracteres y devolver la cadena obtenida y un entero con lacantidad de reemplazos realizados. Tener en cuenta que sólo deben reemplazarse palabras completas, y no fragmentos de palabras. Escribir también un programa para verificar el comportamiento de la función."
   ]
  },
  {
   "cell_type": "code",
   "execution_count": 9,
   "metadata": {},
   "outputs": [
    {
     "name": "stdout",
     "output_type": "stream",
     "text": [
      "Hola Python hola Python dodo\n",
      "------\n",
      "Hola Python hola mundododo\n"
     ]
    }
   ],
   "source": [
    "def reemplazar(cadena, busqueda, reemplazo):\n",
    "    lista = cadena.split()\n",
    "    for i in range(len(lista)):\n",
    "        if lista[i] == busqueda:\n",
    "            lista[i] = reemplazo\n",
    "    return \" \".join(lista)\n",
    "\n",
    "cadena = \"Hola mundo hola mundo dodo\"\n",
    "busqueda = \"mundo\"\n",
    "reemplazo = \"Python\"\n",
    "print(reemplazar(cadena, busqueda, reemplazo))\n",
    "cadena = \"Hola mundo hola mundododo\"\n",
    "print('------')\n",
    "print(reemplazar(cadena, busqueda, reemplazo))\n",
    "\n"
   ]
  },
  {
   "cell_type": "markdown",
   "metadata": {},
   "source": [
    "9.\tContar el número de vocales: Crea un programa que le pida al usuario que ingrese una cadena y luego cuente y muestre el número de vocales que hay en la cadena. Ayuda: Puedes usar un bucle for para recorrer la cadena y un condicional if para comprobar si cada carácter es una vocal."
   ]
  },
  {
   "cell_type": "code",
   "execution_count": 12,
   "metadata": {},
   "outputs": [
    {
     "name": "stdout",
     "output_type": "stream",
     "text": [
      "10\n"
     ]
    }
   ],
   "source": [
    "def getNumVocales(cadena):\n",
    "    vocales = \"aeiou\"\n",
    "    contador = 0\n",
    "    for letra in cadena.lower():\n",
    "        if letra in vocales:\n",
    "            contador += 1\n",
    "    return contador\n",
    "\n",
    "\n",
    "cadena = \"Hola mundo hola mundo dodo\"\n",
    "print(getNumVocales(cadena))"
   ]
  },
  {
   "cell_type": "markdown",
   "metadata": {},
   "source": [
    "10.\tEliminar caracteres: Crea un programa que le pida al usuario que ingrese una cadena y luego elimine todas las ocurrencias de un carácter específico en la cadena. Por ejemplo, puedes pedirle al usuario que ingrese una cadena y luego eliminar todas las letras \"a\"."
   ]
  },
  {
   "cell_type": "code",
   "execution_count": 13,
   "metadata": {},
   "outputs": [
    {
     "name": "stdout",
     "output_type": "stream",
     "text": [
      "Hla mund hla mund dd\n"
     ]
    }
   ],
   "source": [
    "def elimnarCaracter(cadena, caracter):\n",
    "    return cadena.replace(caracter, \"\")\n",
    "\n",
    "cadena = \"Hola mundo hola mundo dodo\"\n",
    "caracter = \"o\"\n",
    "print(elimnarCaracter(cadena, caracter))\n"
   ]
  }
 ],
 "metadata": {
  "kernelspec": {
   "display_name": ".venv",
   "language": "python",
   "name": "python3"
  },
  "language_info": {
   "codemirror_mode": {
    "name": "ipython",
    "version": 3
   },
   "file_extension": ".py",
   "mimetype": "text/x-python",
   "name": "python",
   "nbconvert_exporter": "python",
   "pygments_lexer": "ipython3",
   "version": "3.11.7"
  }
 },
 "nbformat": 4,
 "nbformat_minor": 2
}
