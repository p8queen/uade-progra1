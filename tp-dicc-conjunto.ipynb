{
 "cells": [
  {
   "cell_type": "code",
   "execution_count": 3,
   "metadata": {},
   "outputs": [
    {
     "name": "stdout",
     "output_type": "stream",
     "text": [
      "Pares: {0, 2, 4, 6, 8, 10, 12, 14, 16, 18, 20, 22, 24, 26, 28, 30, 32, 34, 36, 38, 40, 42, 44, 46, 48, 50, 52, 54, 56, 58, 60, 62, 64, 66, 68, 70, 72, 74, 76, 78, 80, 82, 84, 86, 88, 90, 92, 94, 96, 98, 100}, cantidad: 51, max: 100, min: 0\n",
      "Impares: {1, 3, 5, 7, 9, 11, 13, 15, 17, 19, 21, 23, 25, 27, 29, 31, 33, 35, 37, 39, 41, 43, 45, 47, 49, 51, 53, 55, 57, 59, 61, 63, 65, 67, 69, 71, 73, 75, 77, 79, 81, 83, 85, 87, 89, 91, 93, 95, 97, 99}, cantidad: 50, max: 99, min: 1\n",
      "Azar: {0, 1, 3, 6, 7, 9, 10, 13, 14, 15, 16, 20, 22, 23, 24, 26, 28, 29, 33, 36, 38, 41, 42, 44, 46, 48, 54, 60, 63, 64, 65, 66, 67, 70, 71, 72, 74, 75, 78, 81, 82, 84, 89, 91, 92, 94, 96, 97, 98, 100}, cantidad: 50, max: 100, min: 0\n",
      "azarPares: {0, 6, 10, 14, 16, 20, 22, 24, 26, 28, 36, 38, 42, 44, 46, 48, 54, 60, 64, 66, 70, 72, 74, 78, 82, 84, 92, 94, 96, 98, 100}, cantidad: 31, max: 100, min: 0\n",
      "azarImpares: {1, 3, 7, 9, 13, 15, 23, 29, 33, 41, 63, 65, 67, 71, 75, 81, 89, 91, 97}, cantidad: 19, max: 97, min: 1\n"
     ]
    }
   ],
   "source": [
    "'''\n",
    "2. Crear tres conjuntos:\n",
    "· pares: valores pares entre 0 y 100\n",
    "· impares: valores impares entre 0 y 100\n",
    "· azar: 50 valores al azar entre 0 y 100\n",
    "\n",
    "Una vez generados los tres conjuntos, deberá realizar las siguientes acciones:\n",
    "\n",
    "· generar dos nuevos conjuntos: uno con la intersección entre azar y pares; \n",
    "y azar e impares. Informe de cada uno de ellos: la cantidad, el valor máximo y mínimo.\n",
    "'''\n",
    "\n",
    "import random\n",
    "\n",
    "pares = {i for i in range(0, 101) if i % 2 == 0}\n",
    "impares = {i for i in range(0, 101) if i % 2 != 0}\n",
    "azar = set()\n",
    "\n",
    "\n",
    "while len(azar) < 50:\n",
    "    azar.add(random.randint(0, 100))\n",
    "\n",
    "azarPares = azar & pares\n",
    "azarImpares = azar & impares\n",
    "\n",
    "print(f'Pares: {pares}, cantidad: {len(pares)}, max: {max(pares)}, min: {min(pares)}')\n",
    "print(f'Impares: {impares}, cantidad: {len(impares)}, max: {max(impares)}, min: {min(impares)}')\n",
    "print(f'Azar: {azar}, cantidad: {len(azar)}, max: {max(azar)}, min: {min(azar)}')\n",
    "\n",
    "print(f'azarPares: {azarPares}, cantidad: {len(azarPares)}, max: {max(azarPares)}, min: {min(azarPares)}')\n",
    "print(f'azarImpares: {azarImpares}, cantidad: {len(azarImpares)}, max: {max(azarImpares)}, min: {min(azarImpares)}')\n"
   ]
  },
  {
   "cell_type": "code",
   "execution_count": 5,
   "metadata": {},
   "outputs": [
    {
     "name": "stdout",
     "output_type": "stream",
     "text": [
      "Set1: {3, 4, 7, 8, 10}\n",
      "Set2: {1, 2, 5, 8, 10}\n",
      "Valores en común: {1, 2, 3, 4, 5, 7, 8, 10}\n"
     ]
    }
   ],
   "source": [
    "''' \n",
    "3. Crear dos conjuntos con cinco valores generados al azar, que se encuentre entre \n",
    "1 y 10. Al finalizar, realizar:\n",
    "· Mostrar los valores que son en común entre ambos conjuntos\n",
    "· Luego, volcar desde el primer conjunto al segundo, aquellos valores que no se encuentran del primero en el segundo\n",
    "'''\n",
    "\n",
    "set1 = set()\n",
    "set2 = set()\n",
    "\n",
    "while len(set1) < 5:\n",
    "    set1.add(random.randint(1, 10))\n",
    "\n",
    "while len(set2) < 5:\n",
    "    set2.add(random.randint(1, 10))\n",
    "\n",
    "print(f'Set1: {set1}')  \n",
    "print(f'Set2: {set2}')\n",
    "\n",
    "print(f'Valores en union: {set1 | set2}')\n"
   ]
  },
  {
   "cell_type": "code",
   "execution_count": 6,
   "metadata": {},
   "outputs": [
    {
     "name": "stdout",
     "output_type": "stream",
     "text": [
      "{'mundo', 'Hola', 'hola', 'mundo,'}\n"
     ]
    }
   ],
   "source": [
    "''' \n",
    "6. Palabras únicas en una cadena: Crea una función que tome una cadena como argumento y devuelva un conjunto \n",
    "que contenga todas las palabras únicas en la cadena.'''\n",
    "\n",
    "def palabrasUnicas(cadena):\n",
    "    return set(cadena.split())\n",
    "\n",
    "print(palabrasUnicas('Hola mundo, hola mundo, hola mundo'))\n"
   ]
  },
  {
   "cell_type": "code",
   "execution_count": 7,
   "metadata": {},
   "outputs": [
    {
     "name": "stdout",
     "output_type": "stream",
     "text": [
      "{'a': 1}\n"
     ]
    }
   ],
   "source": [
    "''' \n",
    "10. Eliminar elementos comunes de un diccionario: Crea una función que tome dos diccionarios como \n",
    "argumentos y devuelva un nuevo diccionario que contenga solo las claves del primer diccionario que no \n",
    "estén en el segundo diccionario.\n",
    "'''\n",
    "\n",
    "def eliminarElementosComunes(dic1, dic2):\n",
    "    return {k: v for k, v in dic1.items() if k not in dic2}\n",
    "\n",
    "dic1 = {'a': 1, 'b': 2, 'c': 3}\n",
    "dic2 = {'b': 2, 'c': 3}\n",
    "\n",
    "print(eliminarElementosComunes(dic1, dic2))\n"
   ]
  }
 ],
 "metadata": {
  "kernelspec": {
   "display_name": ".venv",
   "language": "python",
   "name": "python3"
  },
  "language_info": {
   "codemirror_mode": {
    "name": "ipython",
    "version": 3
   },
   "file_extension": ".py",
   "mimetype": "text/x-python",
   "name": "python",
   "nbconvert_exporter": "python",
   "pygments_lexer": "ipython3",
   "version": "3.9.6"
  }
 },
 "nbformat": 4,
 "nbformat_minor": 2
}
