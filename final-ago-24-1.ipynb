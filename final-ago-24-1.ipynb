{
 "cells": [
  {
   "cell_type": "markdown",
   "metadata": {},
   "source": [
    "# Enunciado\n",
    "\n",
    "Una tienda de alquiler de bicicletas necesita un programa para gestionar la entrega y devolución de elementos. Por cada alquiler se ingresa el DNI del cliente y los números que identifican a la bicicleta y al casco protector. Las bicicletas y los cascos se pueden combinar libremente, y se identifican con números arbitrarios, es decir no correlativos.\n",
    "\n",
    "Cuando el cliente regresa para devolución solo se ingresa el número de la bicicleta y del casco, los que se liberan para un nuevo uso.\n",
    "\n",
    "El examen consiste en desarrollar un programa para gestionar la operatoria diaria del comercio permitiendo alquileres y devoluciones a través de un menú de tres opciones: Alquilar, devolver y cierre del día.\n",
    "\n",
    "Al alquilar se debe controlar que los elementos no se encuentren ya alquilados. También se grabará un registro en un archivo histórico de alquileres con todos los datos ingresados. Este archivo tendrá formato CSV.\n",
    "\n",
    "Al devolver es necesario validar que ambos elementos hayan sido alquilados con anterioridad.\n",
    "\n",
    "El cierre del día emitirá dos listados y finalizará el programa. El primer listado mostrará la cantidad de alquileres que tuvo cada elemento (ordenado de mayor a menor por cantidad de alquileres) y el segundo listado contendrá los artículos aún sin devolver, identificando el DNI de quien aún tiene cada elemento en su poder."
   ]
  },
  {
   "cell_type": "code",
   "execution_count": 22,
   "metadata": {},
   "outputs": [
    {
     "data": {
      "text/plain": [
       "('Disponible, Puede alquilar', 'Disponible, Puede alquilar')"
      ]
     },
     "execution_count": 22,
     "metadata": {},
     "output_type": "execute_result"
    }
   ],
   "source": [
    "def checkAlquilado(bici_num, casco_num):\n",
    "    # leer archivo \n",
    "    with open('bici_alquileres.csv', 'r') as f:\n",
    "        # leer por linea\n",
    "        primerRenglon = True\n",
    "        for linea in f:\n",
    "            if not primerRenglon:\n",
    "                # separar por coma\n",
    "                datos = linea.split(',')\n",
    "                datos = [int(d) for d in datos]\n",
    "                # si la bici y casco ya fueron alquilados\n",
    "                if datos[1] == bici_num and datos[2] == casco_num:\n",
    "                    return True\n",
    "            else:\n",
    "                primerRenglon = False\n",
    "            \n",
    "    return False\n",
    "\n",
    "def alquilar(dni, bici_num, casco_num):\n",
    "    r = checkAlquilado(bici_num, casco_num)\n",
    "    if r:\n",
    "        return 'Ya fue alquilado'\n",
    "    else:\n",
    "        return 'Disponible, Puede alquilar'\n",
    "\n",
    "# crear backup de bici_alquileres.csv\n",
    "def backup():\n",
    "    with open('bici_alquileres.csv', 'r') as f:\n",
    "        with open('bici_alquileres_backup.csv', 'w') as f2:\n",
    "            f2.write(f.read())\n",
    "\n",
    "def devolver(dni, bici_num, casco_num):\n",
    "    # escribir las lineas que no contienen la bici y casco alquilados\n",
    "    with open('bici_alquileres.csv', 'w') as f:\n",
    "        with open('bici_alquileres_backup.csv', 'r') as f2:\n",
    "            primerRenlon = True\n",
    "            for linea in f2:\n",
    "                if not primerRenlon:\n",
    "                    datos = linea.split(',')\n",
    "                    datos = [int(d) for d in datos]\n",
    "                    if datos[1] != bici_num and datos[2] != casco_num:\n",
    "                        f.write(linea)\n",
    "                else:\n",
    "                    f.write(linea)\n",
    "                    primerRenlon = False\n",
    "\n",
    "\n",
    "\n",
    "# 88864738,9,38\n",
    "test1 = alquilar(88864738, 9, 38) # Alquiler exitoso\n",
    "test2 = alquilar(88864738, 60, 23) # Ya fue alquilado\n",
    "\n",
    "#70559400,5,21\n",
    "backup()\n",
    "devolver(40733991,72,2) # Devolver bici\n",
    "test1, test2"
   ]
  },
  {
   "cell_type": "code",
   "execution_count": null,
   "metadata": {},
   "outputs": [],
   "source": []
  },
  {
   "cell_type": "code",
   "execution_count": 1,
   "metadata": {},
   "outputs": [
    {
     "ename": "SyntaxError",
     "evalue": "invalid syntax (4209180790.py, line 18)",
     "output_type": "error",
     "traceback": [
      "\u001b[1;36m  Cell \u001b[1;32mIn[1], line 18\u001b[1;36m\u001b[0m\n\u001b[1;33m    else:\u001b[0m\n\u001b[1;37m    ^\u001b[0m\n\u001b[1;31mSyntaxError\u001b[0m\u001b[1;31m:\u001b[0m invalid syntax\n"
     ]
    }
   ],
   "source": [
    "while True:\n",
    "    print(\"\\nMenú:\")\n",
    "    print(\"1. Alquilar\")\n",
    "    print(\"2. Devolver\")\n",
    "    print(\"3. Cierre del día\")\n",
    "    print(\"4. Salir\")\n",
    "    \n",
    "    opcion = input(\"Seleccione una opción: \")\n",
    "    \n",
    "    if opcion == \"1\":\n",
    "        alquilar()\n",
    "    \"\"\" elif opcion == \"2\":\n",
    "        devolver()\n",
    "    elif opcion == \"3\":\n",
    "        cierre_dia()\n",
    "    elif opcion == \"4\":\n",
    "        break \"\"\"\n",
    "    else:\n",
    "        print(\"Opción no válida.\")\n"
   ]
  }
 ],
 "metadata": {
  "kernelspec": {
   "display_name": ".venv",
   "language": "python",
   "name": "python3"
  },
  "language_info": {
   "codemirror_mode": {
    "name": "ipython",
    "version": 3
   },
   "file_extension": ".py",
   "mimetype": "text/x-python",
   "name": "python",
   "nbconvert_exporter": "python",
   "pygments_lexer": "ipython3",
   "version": "3.11.7"
  }
 },
 "nbformat": 4,
 "nbformat_minor": 2
}
