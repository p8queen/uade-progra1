{
 "cells": [
  {
   "cell_type": "markdown",
   "metadata": {},
   "source": [
    "## Ejercicios de tuplas \n",
    "\n",
    "6.\tCálculo de promedio: crea un programa que lea una lista de tuplas, donde cada tupla contiene el nombre de un estudiante y una lista de calificaciones, y calcule el promedio de calificaciones de cada estudiante. Por ejemplo, si llamamos a la función con la lista de tuplas [( 'Juan', [9, 8, 7]), ('Maria', [10, 9, 10]), ('Pedro', [8, 7, 9])], la función devolverá la lista [( 'Juan', 8.0), ('Maria', 9.67), ('Pedro', 8.0)], que contiene el nombre de cada estudiante y su promedio de calificaciones en forma de tuplas.\n",
    "\n",
    "7.\tCálculo de áreas: crea un programa que lea una lista de tuplas, donde cada tupla contiene el nombre de una figura geométrica (cuadrado, rectángulo, triángulo y círculo)  y sus dimensiones, y calcule el área de cada figura.\n"
   ]
  },
  {
   "cell_type": "code",
   "execution_count": 2,
   "metadata": {},
   "outputs": [
    {
     "name": "stdout",
     "output_type": "stream",
     "text": [
      "[('Juan', 8.0), ('Maria', 9.67), ('Pedro', 8.0)]\n"
     ]
    }
   ],
   "source": [
    "def suma(lista):\n",
    "    suma = 0\n",
    "    for i in lista:\n",
    "        suma += i\n",
    "    return suma \n",
    "\n",
    "def getPromedio(lista):\n",
    "    lsPromedios = []\n",
    "    for nombre, notas in lista:\n",
    "        promedio = round(suma(notas) / len(notas), 2)\n",
    "        lsPromedios.append((nombre, promedio))\n",
    "    return lsPromedios\n",
    "\n",
    "notas = [( 'Juan', [9, 8, 7]), ('Maria', [10, 9, 10]), ('Pedro', [8, 7, 9])]\n",
    "print(getPromedio(notas))\n"
   ]
  },
  {
   "cell_type": "code",
   "execution_count": 5,
   "metadata": {},
   "outputs": [
    {
     "name": "stdout",
     "output_type": "stream",
     "text": [
      "[('cuadrado', 12), ('rectangulo', 12), ('triangulo', 6.0), ('círculo', 28.27)]\n"
     ]
    }
   ],
   "source": [
    "import math\n",
    "\n",
    "def getAreaCirculo(radio):\n",
    "    return round(math.pi * (radio ** 2), 2)\n",
    "\n",
    "def getAreaTriangulo(base, altura):\n",
    "    return round((base * altura) / 2, 2)\n",
    "\n",
    "def getAreaRectangulo(base, altura):\n",
    "    return round(base * altura, 2)\n",
    "\n",
    "def getArea(figuras):\n",
    "    areas = []\n",
    "    for figura, dimensiones in figuras:\n",
    "        if figura != 'círculo':\n",
    "            base, altura = dimensiones\n",
    "        if figura == 'cuadrado':\n",
    "            areas.append((figura, getAreaRectangulo(base, altura)))\n",
    "        elif figura == 'rectangulo':\n",
    "            areas.append((figura, getAreaRectangulo(base, altura)))\n",
    "        elif figura == 'triangulo':\n",
    "            areas.append((figura, getAreaTriangulo(base, altura)))\n",
    "        elif figura == 'círculo':\n",
    "            areas.append((figura, getAreaCirculo(dimensiones)))\n",
    "    return areas\n",
    "\n",
    "figuras = [('cuadrado', (3,4)), ('rectangulo', (3,4)), ('triangulo', (3,4)), ('círculo', 3)]\n",
    "print(getArea(figuras))\n"
   ]
  }
 ],
 "metadata": {
  "kernelspec": {
   "display_name": ".venv",
   "language": "python",
   "name": "python3"
  },
  "language_info": {
   "codemirror_mode": {
    "name": "ipython",
    "version": 3
   },
   "file_extension": ".py",
   "mimetype": "text/x-python",
   "name": "python",
   "nbconvert_exporter": "python",
   "pygments_lexer": "ipython3",
   "version": "3.11.7"
  }
 },
 "nbformat": 4,
 "nbformat_minor": 2
}
