{
 "cells": [
  {
   "cell_type": "markdown",
   "metadata": {},
   "source": [
    "6.\tIntercalar los elementos de una lista entre los elementos de otra. La intercalación deberá realizarse exclusivamente mediante la técnica de rebanadas y no se creará una lista nueva sino que se modificará la primera. Por ejemplo, si lista1 = [8, 1, 3] y lista2 =[5,9,7], lista1 deberá quedar como [8,5,1,9,3,7].\n",
    "\n"
   ]
  },
  {
   "cell_type": "code",
   "execution_count": 19,
   "metadata": {},
   "outputs": [
    {
     "name": "stdout",
     "output_type": "stream",
     "text": [
      "[1, 2, 3, 4, 5, 6, 7, 8, 9, 10]\n"
     ]
    }
   ],
   "source": [
    "def intercalar(lista1, lista2):\n",
    "    #supongo que las listas son de igual largo\n",
    "    p=1\n",
    "    for i in lista2:\n",
    "        lista1[p:p] = [i]\n",
    "        p += 2\n",
    "        \n",
    "\n",
    "\n",
    "impares = [x for x in range(1,11,2)]\n",
    "pares = [x for x in range(2,12,2)]\n",
    "intercalar(impares, pares)\n",
    "print(impares)\n",
    "\n"
   ]
  },
  {
   "cell_type": "markdown",
   "metadata": {},
   "source": [
    "7.\tUtilizar la técnica de listas por comprensión para construir una lista con todos los números impares comprendidos entre 100 y 200.\n"
   ]
  },
  {
   "cell_type": "code",
   "execution_count": 20,
   "metadata": {},
   "outputs": [
    {
     "name": "stdout",
     "output_type": "stream",
     "text": [
      "[101, 103, 105, 107, 109, 111, 113, 115, 117, 119, 121, 123, 125, 127, 129, 131, 133, 135, 137, 139, 141, 143, 145, 147, 149, 151, 153, 155, 157, 159, 161, 163, 165, 167, 169, 171, 173, 175, 177, 179, 181, 183, 185, 187, 189, 191, 193, 195, 197, 199]\n"
     ]
    }
   ],
   "source": [
    "print([x for x in range(100,200) if x%2==1])"
   ]
  },
  {
   "cell_type": "markdown",
   "metadata": {},
   "source": [
    "8.\tGenerar e imprimir una lista por comprensión entre A y B con los múltiplos de 7 que no sean múltiplosde5. A y B se ingresan desde el teclado.\n"
   ]
  },
  {
   "cell_type": "code",
   "execution_count": 22,
   "metadata": {},
   "outputs": [
    {
     "name": "stdout",
     "output_type": "stream",
     "text": [
      "[21, 28, 42, 49, 56, 63, 77, 84, 91, 98]\n"
     ]
    }
   ],
   "source": [
    "a = int(input('ingrese un numero natural'))\n",
    "b = int(input('ingrese un numero natural mayor al anterior'))\n",
    "print([x for x in range(a,b) if x%7==0 and x%5!=0])"
   ]
  },
  {
   "cell_type": "markdown",
   "metadata": {},
   "source": [
    "9.\tGenerar una lista con 50 números al azar entre 1 y 100 y crear una nueva lista con los elementos de la primera que sean impares. El proceso deberá realizarse utilizando listas por comprensión. Imprimir las dos listas por pantalla. \n",
    "\n"
   ]
  },
  {
   "cell_type": "code",
   "execution_count": 23,
   "metadata": {},
   "outputs": [
    {
     "name": "stdout",
     "output_type": "stream",
     "text": [
      "Lista Random:  [51, 96, 31, 30, 89, 82, 6, 67, 4, 28, 33, 71, 9, 30, 49, 65, 64, 3, 71, 5, 2, 35, 78, 47, 15, 47, 83, 4, 14, 3, 72, 41, 25, 94, 46, 32, 11, 45, 7, 49, 93, 17, 87, 53, 47, 6, 52, 42, 97, 78]\n",
      "Impares:  [51, 31, 89, 67, 33, 71, 9, 49, 65, 3, 71, 5, 35, 47, 15, 47, 83, 3, 41, 25, 11, 45, 7, 49, 93, 17, 87, 53, 47, 97]\n"
     ]
    }
   ],
   "source": [
    "from random import randint as rnd \n",
    "\n",
    "listaRandom = [rnd(1, 100) for _ in range(50)]\n",
    "impares = [num for num in listaRandom if num % 2 != 0]\n",
    "\n",
    "print(\"Lista Random: \", listaRandom)\n",
    "print(\"Impares: \", impares)\n"
   ]
  },
  {
   "cell_type": "markdown",
   "metadata": {},
   "source": [
    "10.\tUna clínica necesita un programa para atender a sus pacientes. Cada paciente que ingresa se anuncia en la recepción indicando su número de afiliado (número entero de 4 dígitos) y además indica si viene por una urgencia (ingresando un 0) o con turno (ingresando un 1). Para finalizar se ingresa -1 como número de socio. Luego se solicita:\n",
    "\n",
    "a.\tMostrar un listado de los pacientes atendidos por urgencia y un listado de los pacientes atendidos por turno en el orden que llegaron a la clínica.\n",
    "b.\tRealizar la búsqueda de un número de afiliado e informar cuántas veces fue atendido por turno y cuántas por urgencia.\n",
    "\n",
    "Repetir esta búsqueda hasta que se ingrese -1 como número de afiliado.\n",
    "\n"
   ]
  },
  {
   "cell_type": "code",
   "execution_count": 2,
   "metadata": {},
   "outputs": [],
   "source": [
    "pacientes = []\n",
    "ingreso_datos = True\n",
    "\n",
    "while ingreso_datos:\n",
    "    numero_afiliado = int(input(\"Ingrese el número de afiliado (-1 para finalizar): \"))\n",
    "    \n",
    "    if numero_afiliado == -1:\n",
    "        ingreso_datos = False\n",
    "    else:\n",
    "        tipo_atencion = int(input(\"Ingrese el tipo de atención (0 para urgencia, 1 para turno): \"))\n",
    "        pacientes.append((numero_afiliado, tipo_atencion))\n",
    "    \n"
   ]
  },
  {
   "cell_type": "code",
   "execution_count": 5,
   "metadata": {},
   "outputs": [
    {
     "name": "stdout",
     "output_type": "stream",
     "text": [
      "[(1234, 0), (1456, 0)]\n",
      "[(1456, 1), (1632, 1), (1456, 1), (1234, 1), (1234, 1), (1365, 1)]\n",
      "El paciente 1234 fue atendido 1 veces por urgencia y 2 veces por turno\n"
     ]
    }
   ],
   "source": [
    "\n",
    "def paciente_veces_atendido(pacientes, numero):\n",
    "    atendidos_por_urgencia = [(num, tipo) for num, tipo in pacientes if tipo == 0 and num == numero]\n",
    "    atendidos_por_turno = [(num, tipo) for num, tipo in pacientes if tipo == 1 and num == numero]\n",
    "    return len(atendidos_por_urgencia), len(atendidos_por_turno)\n",
    "\n",
    "atendidos_por_urgencia = [(num, tipo) for num, tipo in pacientes if tipo == 0]\n",
    "atendidos_por_turno = [(num, tipo) for num, tipo in pacientes if tipo == 1]\n",
    "\n",
    "print(atendidos_por_urgencia)\n",
    "print(atendidos_por_turno)\n",
    "consulta = 1234 #numero de afiliado a consultar\n",
    "urgencias, turnos = paciente_veces_atendido(pacientes, consulta)\n",
    "print(f\"El paciente {consulta} fue atendido {urgencias} veces por urgencia y {turnos} veces por turno\")\n"
   ]
  }
 ],
 "metadata": {
  "kernelspec": {
   "display_name": ".venv",
   "language": "python",
   "name": "python3"
  },
  "language_info": {
   "codemirror_mode": {
    "name": "ipython",
    "version": 3
   },
   "file_extension": ".py",
   "mimetype": "text/x-python",
   "name": "python",
   "nbconvert_exporter": "python",
   "pygments_lexer": "ipython3",
   "version": "3.11.7"
  }
 },
 "nbformat": 4,
 "nbformat_minor": 2
}
