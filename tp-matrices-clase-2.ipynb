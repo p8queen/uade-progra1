{
 "cells": [
  {
   "cell_type": "code",
   "execution_count": 4,
   "metadata": {},
   "outputs": [],
   "source": [
    "from random import randint as rdi"
   ]
  },
  {
   "cell_type": "code",
   "execution_count": 5,
   "metadata": {},
   "outputs": [
    {
     "name": "stdout",
     "output_type": "stream",
     "text": [
      "[[48, 52, 43], [96, 90, 23], [89, 91, 27]]\n",
      "[[94, 83, 82], [6, 74, 6], [100, 15, 51]]\n",
      "[[142, 135, 125], [102, 164, 29], [189, 106, 78]]\n"
     ]
    }
   ],
   "source": [
    "''' 3. Suma de Matrices: escribir una función que reciba dos matrices como entrada y \n",
    "devuelva la matriz resultante de su suma. Se asume que ambas matrices tienen las \n",
    "mismas dimensiones.'''\n",
    "\n",
    "def suma_matrices(matriz1, matriz2):\n",
    "    matriz = []\n",
    "    for i in range(len(matriz1)):\n",
    "        fila = []\n",
    "        for j in range(len(matriz1[0])):\n",
    "            fila.append(matriz1[i][j] + matriz2[i][j])\n",
    "        matriz.append(fila)\n",
    "    return matriz\n",
    "\n",
    "matriz1 = [[rdi(0,100) for x in range(3)] for y in range(3)]\n",
    "matriz2 = [[rdi(0,100) for x in range(3)] for y in range(3)]\n",
    "print(matriz1)\n",
    "print(matriz2)\n",
    "print(suma_matrices(matriz1, matriz2))"
   ]
  },
  {
   "cell_type": "code",
   "execution_count": 6,
   "metadata": {},
   "outputs": [
    {
     "name": "stdout",
     "output_type": "stream",
     "text": [
      "[[33, 35, 85], [89, 44, 14], [44, 6, 51]]\n",
      "[[99, 105, 255], [267, 132, 42], [132, 18, 153]]\n"
     ]
    }
   ],
   "source": [
    "''' 4. Producto Escalar: crear una función que tome una matriz y un número como entrada, y \n",
    "devuelva la matriz resultante de multiplicar cada elemento por el número dado.'''\n",
    "def producto_escalar(matriz, num):\n",
    "    matriz_r = []\n",
    "    for f in range(len(matriz)):\n",
    "        fila_r = []\n",
    "        for c in range(len(matriz[f])):\n",
    "            fila_r.append(matriz[f][c] * num)\n",
    "        matriz_r.append(fila_r)\n",
    "    return matriz_r\n",
    "\n",
    "matriz = [[rdi(0,100) for x in range(3)] for y in range(3)]\n",
    "print(matriz)\n",
    "print(producto_escalar(matriz, 3))\n",
    "\n",
    "\n"
   ]
  },
  {
   "cell_type": "code",
   "execution_count": 8,
   "metadata": {},
   "outputs": [
    {
     "name": "stdout",
     "output_type": "stream",
     "text": [
      "[[7, 2, 8], [1, 1, 7], [7, 8, 0]]\n",
      "([17, 9, 15], [15, 11, 15])\n"
     ]
    }
   ],
   "source": [
    "''' 5. Suma de Filas y Columnas: crear una función que tome una matriz como entrada y \n",
    "devuelva una lista con la suma de cada fila y otra lista con la suma de cada columna. '''\n",
    "def sumar(lista):\n",
    "    suma = 0\n",
    "    for i in lista:\n",
    "        suma += i\n",
    "    return suma\n",
    "\n",
    "def getColumna(matriz, i):\n",
    "    columna = []\n",
    "    for fila in matriz:\n",
    "        columna.append(fila[i])\n",
    "    return columna\n",
    "\n",
    "def suma_filas_columnas(matriz):\n",
    "    sumas_filas = []\n",
    "    for fila in range(len(matriz)):\n",
    "        sumas_filas.append(sumar(matriz[fila]))\n",
    "    sumas_columnas = []\n",
    "    for columna in range(len(matriz[0])):\n",
    "        sumas_columnas.append(sumar(getColumna(matriz, columna)))\n",
    "    return sumas_filas, sumas_columnas\n",
    "\n",
    "matriz = [[rdi(0,10) for x in range(3)] for y in range(3)]\n",
    "print(matriz)\n",
    "print(suma_filas_columnas(matriz))\n"
   ]
  },
  {
   "cell_type": "code",
   "execution_count": 9,
   "metadata": {},
   "outputs": [
    {
     "name": "stdout",
     "output_type": "stream",
     "text": [
      "[[3, 9, 0], [0, 4, 10], [8, 3, 2]]\n",
      "[8, 9, 10]\n"
     ]
    }
   ],
   "source": [
    "''' 6. Mayor Elemento por Columna: implementar una función que tome una matriz como \n",
    "entrada y devuelva una lista con los mayores elementos de cada columna.\n",
    "''' \n",
    "def maximo(lista):\n",
    "    if len(lista) == 0:\n",
    "        return None\n",
    "    maximo = lista[0]\n",
    "    if len(lista) == 1:\n",
    "        return maximo\n",
    "    for i in range(1, len(lista)):\n",
    "        if lista[i] > maximo:\n",
    "            maximo = lista[i]\n",
    "    return maximo\n",
    "\n",
    "def getColumna(matriz, i):\n",
    "    columna = []\n",
    "    for fila in matriz:\n",
    "        columna.append(fila[i])\n",
    "    return columna\n",
    "\n",
    "def maximo_columnas(matriz):\n",
    "    maximos = []\n",
    "    for columna in range(len(matriz[0])):\n",
    "        maximos.append(maximo(getColumna(matriz, columna)))\n",
    "    return maximos\n",
    "\n",
    "matriz = [[rdi(0,10) for x in range(3)] for y in range(3)]\n",
    "print(matriz)\n",
    "print(maximo_columnas(matriz))\n"
   ]
  },
  {
   "cell_type": "code",
   "execution_count": 25,
   "metadata": {},
   "outputs": [
    {
     "name": "stdout",
     "output_type": "stream",
     "text": [
      "['Hola cómo estás', 'Estoy bien gracias']\n"
     ]
    }
   ],
   "source": [
    "'''7. Escribe una función llamada obtenerFrases(matriz) que tome una matriz como entrada. \n",
    "Cada fila de la matriz representa una frase, donde los elementos de la fila son las \n",
    "palabras de la frase. La función debe recorrer la matriz y concatenar los elementos de \n",
    "cada fila para formar una frase completa. Luego, la función debe devolver una lista que \n",
    "contenga todas las frases formadas.''' \n",
    "\n",
    "def unir(lista, separador):\n",
    "    frase = ''\n",
    "    for i in range(len(lista)):\n",
    "        frase += lista[i] + separador\n",
    "        \n",
    "    return frase[:-1]\n",
    "\n",
    "def obtenerFrases(matriz):\n",
    "    frases = []\n",
    "    for f in range(len(matriz)):\n",
    "        frases.append(unir(matriz[f], ' '))\n",
    "    return frases\n",
    "\n",
    "matrizEjemplo = [['Hola', 'cómo', 'estás'],['Estoy', 'bien', 'gracias']]\n",
    "print(obtenerFrases(matrizEjemplo))\n"
   ]
  },
  {
   "cell_type": "code",
   "execution_count": 27,
   "metadata": {},
   "outputs": [
    {
     "name": "stdout",
     "output_type": "stream",
     "text": [
      "True\n",
      "False\n"
     ]
    }
   ],
   "source": [
    "''' 8. Escribe una función llamada buscarPalabra(matriz, palabra) que tome una matriz de \n",
    "palabras y una palabra como entrada y devuelva True si la palabra está presente en la \n",
    "matriz y False en caso contrario''' \n",
    "\n",
    "def buscarPalabra(matriz, palabra):\n",
    "    for f in range(len(matriz)):\n",
    "        if palabra in matriz[f]:\n",
    "            return True\n",
    "    return False\n",
    "\n",
    "matrizEjemplo = [['Hola', 'cómo', 'estás'],['Estoy', 'bien', 'gracias']]\n",
    "print(buscarPalabra(matrizEjemplo, 'bien'))\n",
    "print(buscarPalabra(matrizEjemplo, 'mal'))\n",
    "\n"
   ]
  }
 ],
 "metadata": {
  "kernelspec": {
   "display_name": ".venv",
   "language": "python",
   "name": "python3"
  },
  "language_info": {
   "codemirror_mode": {
    "name": "ipython",
    "version": 3
   },
   "file_extension": ".py",
   "mimetype": "text/x-python",
   "name": "python",
   "nbconvert_exporter": "python",
   "pygments_lexer": "ipython3",
   "version": "3.11.7"
  }
 },
 "nbformat": 4,
 "nbformat_minor": 2
}
