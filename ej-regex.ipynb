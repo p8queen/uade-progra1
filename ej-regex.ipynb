{
 "cells": [
  {
   "cell_type": "code",
   "execution_count": 1,
   "metadata": {},
   "outputs": [],
   "source": [
    "import re"
   ]
  },
  {
   "cell_type": "code",
   "execution_count": 4,
   "metadata": {},
   "outputs": [
    {
     "name": "stdout",
     "output_type": "stream",
     "text": [
      "['python', 'Python']\n"
     ]
    }
   ],
   "source": [
    "''' 1.\tEscriba un programa que busque la palabra \"python\" en una cadena ingresada por \n",
    "el usuario, sin importar que sea mayúsculas o minúsculas. Utilice el método findall para \n",
    "resolverlo. \n",
    "    '''\n",
    "\n",
    "cadena = input('ingreso una frase con la palabra python 1 o mas veces: ')\n",
    "patron = \"python\"\n",
    "resultado = re.findall(patron, cadena, re.IGNORECASE)\n",
    "print(resultado)\n"
   ]
  },
  {
   "cell_type": "code",
   "execution_count": 5,
   "metadata": {},
   "outputs": [
    {
     "name": "stdout",
     "output_type": "stream",
     "text": [
      "['E', 'D', 'R', 'P']\n"
     ]
    }
   ],
   "source": [
    "''' 2.\tEscriba un programa que busque todas las letras mayúsculas en una cadena ingresada \n",
    "por el usuario e imprima cada una de ellas. Utilice el método findall para resolverlo. '''\n",
    "\n",
    "cadena = 'Escriba un programa que. De River Plate soy'\n",
    "patron = \"[A-Z]\"\n",
    "resultado = re.findall(patron, cadena)\n",
    "print(resultado)\n",
    "\n"
   ]
  },
  {
   "cell_type": "code",
   "execution_count": 7,
   "metadata": {},
   "outputs": [
    {
     "name": "stdout",
     "output_type": "stream",
     "text": [
      "False\n"
     ]
    }
   ],
   "source": [
    "''' 3.\tEscribe una función para verificar si una cadena comienza con una letra mayúscula.\n",
    " De ser así, retornará True; False en caso contrario. Utilice el método match para su \n",
    " resolución.'''\n",
    "\n",
    "def verificar_mayuscula(cadena):\n",
    "    patron = \"^[A-Z]\"\n",
    "    if re.match(patron, cadena):\n",
    "        return True\n",
    "    else:\n",
    "        return False\n",
    "\n",
    "cadena = 'escriba un programa que. De River Plate soy'\n",
    "print(verificar_mayuscula(cadena))\n"
   ]
  },
  {
   "cell_type": "code",
   "execution_count": 8,
   "metadata": {},
   "outputs": [
    {
     "name": "stdout",
     "output_type": "stream",
     "text": [
      "True\n"
     ]
    }
   ],
   "source": [
    "''' 4.\tDesarrolle una función que busque la existencia de una palabra en una cadena, \n",
    "sin importar mayúsculas o minúsculas. De ser así, retornará True; False en caso \n",
    "contrario. Utilice el método search para su resolución.\n",
    "'''\n",
    "\n",
    "def buscarPalabra(cadena, palabra):\n",
    "    patron = palabra\n",
    "    if re.search(patron, cadena, re.IGNORECASE):\n",
    "        return True\n",
    "    else:\n",
    "        return False\n",
    "\n",
    "cadena = 'Escriba un programa que. De River Plate soy'\n",
    "palabra = 'river'\n",
    "print(buscarPalabra(cadena, palabra))"
   ]
  },
  {
   "cell_type": "code",
   "execution_count": 12,
   "metadata": {},
   "outputs": [
    {
     "name": "stdout",
     "output_type": "stream",
     "text": [
      "posInit: 30, encontrado: 3421, posEnd: 34\n",
      "posInit: 35, encontrado: 2314, posEnd: 39\n",
      "posInit: 60, encontrado: 123, posEnd: 63\n",
      "posInit: 64, encontrado: 456, posEnd: 67\n",
      "posInit: 68, encontrado: 789, posEnd: 71\n"
     ]
    }
   ],
   "source": [
    "''' 5.\tEscribe un programa que encuentre todas las apariciones de números en una cadena \n",
    " devuelva cada número encontrado en una lista. Utilice el método finditer para su \n",
    " resolución.'''\n",
    "\n",
    "cadena = 'Escriba un programa que celu: 3421-2314. De River Plate soy 123 456 789'\n",
    "patron = \"[0-9]+\"\n",
    "resultado = re.finditer(patron, cadena)\n",
    "for match in resultado:\n",
    "    print(f'posInit: {match.start()}, encontrado: {match.group()}, posEnd: {match.end()}')\n"
   ]
  },
  {
   "cell_type": "code",
   "execution_count": 19,
   "metadata": {},
   "outputs": [
    {
     "name": "stdout",
     "output_type": "stream",
     "text": [
      "_scr_b_ _n pr_gr_m_ q__ c_l_: 3421-2314. D_ R_v_r Pl_t_ s_y 123 456 789\n"
     ]
    }
   ],
   "source": [
    "''' 6.\tEscriba una función que reemplace todas las vocales en \n",
    "una cadena con el carácter '_'. Utilice el método sub para el desarrollo.'''\n",
    "\n",
    "def reemplazarVocales(cadena):\n",
    "    patron = \"[aeiou|AEIOU]\"\n",
    "    reemplazo = \"_\"\n",
    "    resultado = re.sub(patron, reemplazo, cadena)\n",
    "    return resultado\n",
    "\n",
    "\n",
    "cadena = 'Escriba un programa que celu: 3421-2314. De River Plate soy 123 456 789'\n",
    "print(reemplazarVocales(cadena))\n"
   ]
  },
  {
   "cell_type": "code",
   "execution_count": 44,
   "metadata": {},
   "outputs": [
    {
     "name": "stdout",
     "output_type": "stream",
     "text": [
      "['#programa', '#celu', '#RiverPlate', '#123_456', '#rt']\n"
     ]
    }
   ],
   "source": [
    "''' 7.\tEscribe una función que extraiga todos los hashtags de una cadena dada. \n",
    "Un hashtag se define como cualquier secuencia de caracteres alfanuméricos precedida por \n",
    "un símbolo # y puede contener letras, números y guiones bajos. La función debe devolver \n",
    "una lista con todos los hashtags encontrados en la cadena.'''\n",
    "\n",
    "def extraerHashtags(cadena):\n",
    "    #patron = \"#[a-zA-Z0-9_]+\"\n",
    "    patron = r\"(#[a-zA-Z0-9_]+\\*)\"\n",
    "    resultado = re.findall(patron, cadena)\n",
    "    res = [x.replace('*', '') for x in resultado]\n",
    "    res2 = list(map(lambda x: x.replace('*', ''), resultado))\n",
    "    return res2\n",
    "\n",
    "def palabras(cadena):\n",
    "    patron = r\"[\\s,.;:!\\?]\"\n",
    "    reemplazo = \"*\"\n",
    "    cad = re.sub(patron, reemplazo, cadena)\n",
    "    return extraerHashtags(cad)\n",
    "    \n",
    "cadena = 'Escriba un #programa que #celu: 3421-2314. De #RiverPlate soy #123_456 #789-654 #rt?'\n",
    "print(palabras(cadena))\n"
   ]
  },
  {
   "cell_type": "code",
   "execution_count": 35,
   "metadata": {},
   "outputs": [
    {
     "name": "stdout",
     "output_type": "stream",
     "text": [
      "Escriba*un*#programa*que*#celu**3421-2314**De*#RiverPlate*soy*#123_456*#789-654*#rt*\n"
     ]
    }
   ],
   "source": [
    "cadena = 'Escriba un #programa que #celu: 3421-2314. De #RiverPlate soy #123_456 #789-654 #rt?'\n",
    "# reemplazar los hashtags por * \n",
    "patron = r\"[\\s,.;:!\\?]\"\n",
    "reemplazo = \"*\"\n",
    "resultado = re.sub(patron, reemplazo, cadena)\n",
    "\n",
    "print(resultado)\n"
   ]
  }
 ],
 "metadata": {
  "kernelspec": {
   "display_name": ".venv",
   "language": "python",
   "name": "python3"
  },
  "language_info": {
   "codemirror_mode": {
    "name": "ipython",
    "version": 3
   },
   "file_extension": ".py",
   "mimetype": "text/x-python",
   "name": "python",
   "nbconvert_exporter": "python",
   "pygments_lexer": "ipython3",
   "version": "3.11.7"
  }
 },
 "nbformat": 4,
 "nbformat_minor": 2
}
