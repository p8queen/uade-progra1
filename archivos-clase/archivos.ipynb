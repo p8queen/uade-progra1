{
 "cells": [
  {
   "cell_type": "code",
   "execution_count": 2,
   "metadata": {},
   "outputs": [
    {
     "name": "stdout",
     "output_type": "stream",
     "text": [
      "A\n",
      "E\n",
      "I\n",
      "O\n",
      "U\n"
     ]
    }
   ],
   "source": [
    "# abrir letras.txt en modo lectura encoding utf-8, usar contenido = open \n",
    "\n",
    "try:\n",
    "        \n",
    "    contenido = open('letras.txt', 'r', encoding='utf-8')\n",
    "\n",
    "    for linea in contenido:\n",
    "        print(linea.rstrip())\n",
    "\n",
    "    contenido.close()\n",
    "\n",
    "except FileNotFoundError:\n",
    "    print('No se encontro el archivo')\n",
    "\n",
    "\n"
   ]
  },
  {
   "cell_type": "code",
   "execution_count": 5,
   "metadata": {},
   "outputs": [
    {
     "name": "stdout",
     "output_type": "stream",
     "text": [
      "Nombre: oliver, Nota:  10\n",
      "Nombre: gabriela, Nota:  7\n",
      "Nombre: irina, Nota:  2\n"
     ]
    }
   ],
   "source": [
    "try:\n",
    "    contenido=open('notas.csv', 'r', encoding='utf-8')\n",
    "\n",
    "    for linea in contenido:\n",
    "        linea = linea.rstrip()\n",
    "        nombre, nota = linea.split(',')\n",
    "        print(f'Nombre: {nombre}, Nota: {nota}')\n",
    "\n",
    "    contenido.close()\n",
    "\n",
    "except FileNotFoundError:\n",
    "    print('No se encontro el archivo')\n"
   ]
  },
  {
   "cell_type": "code",
   "execution_count": 7,
   "metadata": {},
   "outputs": [],
   "source": [
    "nombres = ['GAbriela', 'Oliver', 'Irina']\n",
    "\n",
    "try:\n",
    "    archivo = open('personas.txt', 'w', encoding='utf-8')\n",
    "    for nombre in nombres:\n",
    "        try:\n",
    "            archivo.write(f'{nombre}\\n')\n",
    "        except Exception as e:\n",
    "            print('No se pudo escribir en el archivo', e)\n",
    "        finally:\n",
    "            archivo.close()\n",
    "            \n",
    "except Exception as e:\n",
    "    print('No se pudo abrir el archivo', e)\n",
    "except FileNotFoundError:\n",
    "    print('No se encontro el archivo')\n",
    "except PermissionError:\n",
    "    print('No tiene permisos para abrir el archivo')\n"
   ]
  },
  {
   "cell_type": "code",
   "execution_count": 10,
   "metadata": {},
   "outputs": [],
   "source": [
    "try:\n",
    "    archivo = open('personas.txt', 'a')\n",
    "    nombre = 'aa'\n",
    "    while nombre != '':\n",
    "        nombre = input('Ingresa un nombre: ')\n",
    "        try:\n",
    "            archivo.write(f'{nombre}\\n')\n",
    "        except Exception as e:\n",
    "            print('No se pudo escribir en el archivo', e)\n",
    "    archivo.close()\n",
    "except Exception as e:\n",
    "    print('No se pudo abrir el archivo', e)\n"
   ]
  },
  {
   "cell_type": "code",
   "execution_count": null,
   "metadata": {},
   "outputs": [],
   "source": [
    "# hacer una funcion registrarExcepcones() que reciba una lista de excepciones\n",
    "\n",
    "def registrarExcepciones(excepciones):\n",
    "    try:\n",
    "        archivo = open('personas.txt', 'a')\n",
    "        for excepcion in excepciones:\n",
    "            try:\n",
    "                error = f'Tipo: {type(excepciones)}, Valor: {excepciones}'\n",
    "                archivo.write(f'{excepciones}, {error}\\n')\n",
    "            except Exception as e:\n",
    "                print('No se pudo escribir en el archivo', e)\n",
    "        archivo.close()\n",
    "    except Exception as e:\n",
    "        print('No se pudo abrir el archivo', e)\n",
    "    except FileNotFoundError:\n",
    "        print('No se encontro el archivo')\n",
    "    except PermissionError:\n",
    "        print('No tiene permisos para abrir el archivo')"
   ]
  }
 ],
 "metadata": {
  "kernelspec": {
   "display_name": ".venv",
   "language": "python",
   "name": "python3"
  },
  "language_info": {
   "codemirror_mode": {
    "name": "ipython",
    "version": 3
   },
   "file_extension": ".py",
   "mimetype": "text/x-python",
   "name": "python",
   "nbconvert_exporter": "python",
   "pygments_lexer": "ipython3",
   "version": "3.9.6"
  }
 },
 "nbformat": 4,
 "nbformat_minor": 2
}
